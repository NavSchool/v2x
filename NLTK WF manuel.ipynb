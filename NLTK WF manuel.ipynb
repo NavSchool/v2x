{
 "cells": [
  {
   "cell_type": "code",
   "execution_count": null,
   "metadata": {},
   "outputs": [],
   "source": [
    "from bs4 import BeautifulSoup\n",
    "\n",
    "import nltk\n",
    "\n",
    "from nltk.corpus import stopwords\n",
    "\n",
    "import requests\n",
    "\n",
    "import time\n",
    "\n",
    "# This will be used to load the image as an object\n",
    "# I used this to load a image from a url\n",
    "# https://stackoverflow.com/questions/7391945/how-do-i-read-image-data-from-a-url-in-python\n",
    "from PIL import Image\n",
    "\n",
    "# Pytesseract is the software used to extract text from image\n",
    "from pytesseract import pytesseract\n",
    "# Tesseract requires a manuel install and a file path to the .exe file\n",
    "pytesseract.tesseract_cmd = \"C:\\\\Program Files\\\\Tesseract-OCR\\\\tesseract.exe\"\n",
    "# I followed this guide to learn how to use Tesseract \n",
    "# https://www.geeksforgeeks.org/how-to-extract-text-from-images-with-python/\n",
    "\n",
    "# The function will return the text of any page of a Pan Am manuel hosted on the Miami Libraries Digital Collection\n",
    "# given the link to that page\n",
    "def get_text(link):\n",
    "    # Grabing the html of the page\n",
    "    r = requests.get(link)\n",
    "    time.sleep(0.5) # Used to create delay between request and give time for the page to load\n",
    "    html = r.text\n",
    "    soup = BeautifulSoup(html, 'html.parser')\n",
    "    \n",
    "    # Getting the image link from the html\n",
    "    img_link = soup.find_all('meta')[-3]['content'] # For manuel on Miami Libraries Digital Collection, a link to the image itself is in the 3rd to last meta tag under content\n",
    "    image = Image.open(requests.get(img_link,stream=True).raw) # Online help cited above\n",
    "    \n",
    "    # Extracts the image from the text\n",
    "    text = pytesseract.image_to_string(image)\n",
    "    \n",
    "    # Cleans up the text extracted\n",
    "    text = text.replace(\"\\n\", \" \")\n",
    "    return text\n",
    "\n",
    "def manuel_wf(link,pg_count):\n",
    "    # To store the words and the words without stop word\n",
    "    words = []\n",
    "    words_ns = []\n",
    "    \n",
    "    # Creating a tokenizer\n",
    "    tokenizer = nltk.tokenize.RegexpTokenizer('\\w+')\n",
    "    \n",
    "    # Getting the text from all the pages\n",
    "    for i in range(pg_count):\n",
    "        # Updates the link for each page\n",
    "        new_link = link.replace(link[75:81],str(int(link[75:81])+i))\n",
    "        # Get the text from the transcription of the page\n",
    "        text = get_text(new_link)\n",
    "        # Check if there is text\n",
    "        if text is not None:\n",
    "            tokens = tokenizer.tokenize(text)\n",
    "            # tokeized the words\n",
    "            for word in tokens:\n",
    "                words.append(word.lower())   \n",
    "    # Grabs a list of stops word    \n",
    "    sw = stopwords.words('english')\n",
    "    # Removes stop words\n",
    "    for word in words:\n",
    "        if word not in sw:\n",
    "            words_ns.append(word)\n",
    "            \n",
    "    # This command display figures inline\n",
    "    %matplotlib inline\n",
    "\n",
    "    # Creating the word frequency distribution\n",
    "    freqdist = nltk.FreqDist(words_ns)\n",
    "\n",
    "    # Plotting the word frequency distribution\n",
    "    return freqdist.plot(20)"
   ]
  },
  {
   "cell_type": "code",
   "execution_count": null,
   "metadata": {},
   "outputs": [],
   "source": [
    "# Pan American Airways, Inc., Africa-Orient Division, operations engineering flight manual\n",
    "manuel_wf('https://digitalcollections.library.miami.edu/digital/collection/asm0341/id/224942/rec/11',78)"
   ]
  },
  {
   "cell_type": "code",
   "execution_count": null,
   "metadata": {},
   "outputs": [],
   "source": [
    "# Pan Am flight manual: B707-300 aircraft operating manual\n",
    "manuel_wf('https://digitalcollections.library.miami.edu/digital/collection/asm0341/id/226993/rec/6',495)"
   ]
  },
  {
   "cell_type": "code",
   "execution_count": null,
   "metadata": {},
   "outputs": [],
   "source": [
    "# Pan Am 727 aircraft operating manual\n",
    "manuel_wf('https://digitalcollections.library.miami.edu/digital/collection/asm0341/id/224599/rec/2',299)"
   ]
  },
  {
   "cell_type": "code",
   "execution_count": null,
   "metadata": {},
   "outputs": [],
   "source": [
    "# Airway manual: Pan American Airways System Coverage, Atlantic Division\n",
    "manuel_wf('https://digitalcollections.library.miami.edu/digital/collection/asm0341/id/109320/rec/1',958)"
   ]
  }
 ],
 "metadata": {
  "language_info": {
   "name": "python"
  }
 },
 "nbformat": 4,
 "nbformat_minor": 2
}
